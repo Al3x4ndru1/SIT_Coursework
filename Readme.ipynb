{
 "cells": [
  {
   "cell_type": "markdown",
   "metadata": {},
   "source": [
    "# SIT_Coursework"
   ]
  },
  {
   "cell_type": "markdown",
   "metadata": {},
   "source": [
    "---------------------"
   ]
  },
  {
   "cell_type": "markdown",
   "metadata": {},
   "source": [
    "## InstallApache"
   ]
  },
  {
   "cell_type": "markdown",
   "metadata": {},
   "source": [
    "This scrip is straighr forward, having some predefined steps for installing apache server and at the end will print in terminal the status of the apache server, if it is not started you can run the command: \n",
    "\n",
    "`sudo systemctl start apache2`\n",
    "\n",
    "and to check again the status of the server:\n",
    "\n",
    "`sudo systemctl status apache2`"
   ]
  },
  {
   "cell_type": "markdown",
   "metadata": {},
   "source": [
    "--------------------------------------------------"
   ]
  },
  {
   "cell_type": "markdown",
   "metadata": {},
   "source": [
    "## CustomFFMPEG"
   ]
  },
  {
   "cell_type": "markdown",
   "metadata": {},
   "source": [
    "This script is a bit more complex. It is organised in four different files, the main file is \"main.sh\". This script expects a folder path where the video is stored and the video name since the video can be stored in a different directory. The main file will first ask the number of resolutions the user wants to create based on a video"
   ]
  },
  {
   "cell_type": "markdown",
   "metadata": {},
   "source": [
    "---------------------"
   ]
  },
  {
   "cell_type": "markdown",
   "metadata": {},
   "source": [
    "## How to run it"
   ]
  },
  {
   "cell_type": "markdown",
   "metadata": {},
   "source": [
    "You can clone it form github and you must have a debian destribution to run the program.\n",
    "\n",
    "You must have the \"FFMPEG\" installed.\n",
    "\n",
    "At this point you can start the program. "
   ]
  }
 ],
 "metadata": {
  "language_info": {
   "name": "python"
  }
 },
 "nbformat": 4,
 "nbformat_minor": 2
}
